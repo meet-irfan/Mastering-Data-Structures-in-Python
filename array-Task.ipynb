{
 "cells": [
  {
   "cell_type": "code",
   "execution_count": 2,
   "id": "1fe29bc4",
   "metadata": {},
   "outputs": [
    {
     "name": "stdout",
     "output_type": "stream",
     "text": [
      "1\n",
      "1\n",
      "2\n",
      "4\n",
      "5\n",
      "6\n"
     ]
    }
   ],
   "source": [
    "import array\n",
    "\n",
    "# Create an integer array\n",
    "arr = array.array('i', [1, 2, 3, 4, 5])  # 'i' means signed int\n",
    "\n",
    "# Access elements\n",
    "print(arr[0])   # Output: 1\n",
    "\n",
    "# Append elements\n",
    "arr.append(6)\n",
    "\n",
    "# Remove elements\n",
    "arr.remove(3)\n",
    "\n",
    "# Loop through array\n",
    "for num in arr:\n",
    "    print(num)\n"
   ]
  },
  {
   "cell_type": "code",
   "execution_count": 3,
   "id": "faee7451",
   "metadata": {},
   "outputs": [],
   "source": [
    "arr.append(6)\n"
   ]
  },
  {
   "cell_type": "code",
   "execution_count": null,
   "id": "39a8f905",
   "metadata": {},
   "outputs": [],
   "source": []
  }
 ],
 "metadata": {
  "kernelspec": {
   "display_name": "Python 3 (ipykernel)",
   "language": "python",
   "name": "python3"
  },
  "language_info": {
   "codemirror_mode": {
    "name": "ipython",
    "version": 3
   },
   "file_extension": ".py",
   "mimetype": "text/x-python",
   "name": "python",
   "nbconvert_exporter": "python",
   "pygments_lexer": "ipython3",
   "version": "3.11.4"
  }
 },
 "nbformat": 4,
 "nbformat_minor": 5
}
