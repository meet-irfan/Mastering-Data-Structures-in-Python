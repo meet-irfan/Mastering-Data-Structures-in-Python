{
 "cells": [
  {
   "cell_type": "code",
   "execution_count": 1,
   "id": "f29c33e4",
   "metadata": {},
   "outputs": [
    {
     "name": "stdout",
     "output_type": "stream",
     "text": [
      "Enter a number: 4\n",
      "4 is Even.\n",
      "Factorial of 4 is 24.\n"
     ]
    }
   ],
   "source": [
    "def factorial_using_stack(n):\n",
    "    stack = []\n",
    "\n",
    "    # Push all numbers from n down to 1 onto the stack\n",
    "    for i in range(n, 0, -1):\n",
    "        stack.append(i)\n",
    "\n",
    "    result = 1\n",
    "    # Pop and multiply\n",
    "    while stack:\n",
    "        result *= stack.pop()\n",
    "\n",
    "    return result\n",
    "\n",
    "# Main Program\n",
    "num = int(input(\"Enter a number: \"))\n",
    "\n",
    "# Even/Odd Check\n",
    "if num % 2 == 0:\n",
    "    print(f\"{num} is Even.\")\n",
    "else:\n",
    "    print(f\"{num} is Odd.\")\n",
    "\n",
    "# Factorial using Stack\n",
    "fact = factorial_using_stack(num)\n",
    "print(f\"Factorial of {num} is {fact}.\")\n"
   ]
  },
  {
   "cell_type": "code",
   "execution_count": null,
   "id": "d947e441",
   "metadata": {},
   "outputs": [],
   "source": []
  }
 ],
 "metadata": {
  "kernelspec": {
   "display_name": "Python 3 (ipykernel)",
   "language": "python",
   "name": "python3"
  },
  "language_info": {
   "codemirror_mode": {
    "name": "ipython",
    "version": 3
   },
   "file_extension": ".py",
   "mimetype": "text/x-python",
   "name": "python",
   "nbconvert_exporter": "python",
   "pygments_lexer": "ipython3",
   "version": "3.11.4"
  }
 },
 "nbformat": 4,
 "nbformat_minor": 5
}
